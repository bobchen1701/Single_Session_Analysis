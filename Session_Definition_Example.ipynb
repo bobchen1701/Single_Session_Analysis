{
 "cells": [
  {
   "cell_type": "code",
   "execution_count": 1,
   "metadata": {},
   "outputs": [],
   "source": [
    "import pandas as pd\n",
    "import numpy as np\n",
    "import matplotlib.pylab as plt\n",
    "import scanpy as sc\n",
    "from scipy.spatial.distance import pdist\n",
    "from sklearn.metrics import pairwise_distances\n",
    "from sklearn.feature_extraction.text import TfidfTransformer\n",
    "from sklearn.preprocessing import normalize"
   ]
  },
  {
   "cell_type": "code",
   "execution_count": 2,
   "metadata": {},
   "outputs": [],
   "source": [
    "logs = pd.read_csv(\"Simulated_200_entries.csv\",index_col=0)"
   ]
  },
  {
   "cell_type": "code",
   "execution_count": 3,
   "metadata": {},
   "outputs": [
    {
     "data": {
      "text/plain": [
       "(200, 4)"
      ]
     },
     "execution_count": 3,
     "metadata": {},
     "output_type": "execute_result"
    }
   ],
   "source": [
    "logs.shape"
   ]
  },
  {
   "cell_type": "code",
   "execution_count": 4,
   "metadata": {},
   "outputs": [
    {
     "data": {
      "text/html": [
       "<div>\n",
       "<style scoped>\n",
       "    .dataframe tbody tr th:only-of-type {\n",
       "        vertical-align: middle;\n",
       "    }\n",
       "\n",
       "    .dataframe tbody tr th {\n",
       "        vertical-align: top;\n",
       "    }\n",
       "\n",
       "    .dataframe thead th {\n",
       "        text-align: right;\n",
       "    }\n",
       "</style>\n",
       "<table border=\"1\" class=\"dataframe\">\n",
       "  <thead>\n",
       "    <tr style=\"text-align: right;\">\n",
       "      <th></th>\n",
       "      <th>patient_obj_id</th>\n",
       "      <th>employee</th>\n",
       "      <th>time</th>\n",
       "      <th>access_action_obj_id</th>\n",
       "    </tr>\n",
       "  </thead>\n",
       "  <tbody>\n",
       "    <tr>\n",
       "      <th>0</th>\n",
       "      <td>Patient A</td>\n",
       "      <td>Provider A</td>\n",
       "      <td>2020-06-30 11:59:33.874630</td>\n",
       "      <td>Event type 0</td>\n",
       "    </tr>\n",
       "    <tr>\n",
       "      <th>1</th>\n",
       "      <td>Patient A</td>\n",
       "      <td>Provider A</td>\n",
       "      <td>2020-06-30 11:59:34.874630</td>\n",
       "      <td>Event type 1</td>\n",
       "    </tr>\n",
       "    <tr>\n",
       "      <th>2</th>\n",
       "      <td>Patient A</td>\n",
       "      <td>Provider A</td>\n",
       "      <td>2020-06-30 11:59:35.874630</td>\n",
       "      <td>Event type 2</td>\n",
       "    </tr>\n",
       "    <tr>\n",
       "      <th>3</th>\n",
       "      <td>Patient A</td>\n",
       "      <td>Provider A</td>\n",
       "      <td>2020-06-30 11:59:36.874630</td>\n",
       "      <td>Event type 1</td>\n",
       "    </tr>\n",
       "    <tr>\n",
       "      <th>4</th>\n",
       "      <td>Patient A</td>\n",
       "      <td>Provider A</td>\n",
       "      <td>2020-06-30 12:04:33.874630</td>\n",
       "      <td>Event type 3</td>\n",
       "    </tr>\n",
       "    <tr>\n",
       "      <th>...</th>\n",
       "      <td>...</td>\n",
       "      <td>...</td>\n",
       "      <td>...</td>\n",
       "      <td>...</td>\n",
       "    </tr>\n",
       "    <tr>\n",
       "      <th>195</th>\n",
       "      <td>Patient C</td>\n",
       "      <td>Provider F</td>\n",
       "      <td>2020-06-30 16:09:34.874630</td>\n",
       "      <td>Event type 7</td>\n",
       "    </tr>\n",
       "    <tr>\n",
       "      <th>196</th>\n",
       "      <td>Patient C</td>\n",
       "      <td>Provider F</td>\n",
       "      <td>2020-06-30 16:09:35.874630</td>\n",
       "      <td>Event type 7</td>\n",
       "    </tr>\n",
       "    <tr>\n",
       "      <th>197</th>\n",
       "      <td>Patient C</td>\n",
       "      <td>Provider F</td>\n",
       "      <td>2020-06-30 16:09:36.874630</td>\n",
       "      <td>Event type 7</td>\n",
       "    </tr>\n",
       "    <tr>\n",
       "      <th>198</th>\n",
       "      <td>Patient C</td>\n",
       "      <td>Provider F</td>\n",
       "      <td>2020-06-30 16:14:33.874630</td>\n",
       "      <td>Event type 7</td>\n",
       "    </tr>\n",
       "    <tr>\n",
       "      <th>199</th>\n",
       "      <td>Patient C</td>\n",
       "      <td>Provider F</td>\n",
       "      <td>2020-06-30 16:14:34.874630</td>\n",
       "      <td>Event type 7</td>\n",
       "    </tr>\n",
       "  </tbody>\n",
       "</table>\n",
       "<p>200 rows × 4 columns</p>\n",
       "</div>"
      ],
      "text/plain": [
       "    patient_obj_id    employee                        time  \\\n",
       "0        Patient A  Provider A  2020-06-30 11:59:33.874630   \n",
       "1        Patient A  Provider A  2020-06-30 11:59:34.874630   \n",
       "2        Patient A  Provider A  2020-06-30 11:59:35.874630   \n",
       "3        Patient A  Provider A  2020-06-30 11:59:36.874630   \n",
       "4        Patient A  Provider A  2020-06-30 12:04:33.874630   \n",
       "..             ...         ...                         ...   \n",
       "195      Patient C  Provider F  2020-06-30 16:09:34.874630   \n",
       "196      Patient C  Provider F  2020-06-30 16:09:35.874630   \n",
       "197      Patient C  Provider F  2020-06-30 16:09:36.874630   \n",
       "198      Patient C  Provider F  2020-06-30 16:14:33.874630   \n",
       "199      Patient C  Provider F  2020-06-30 16:14:34.874630   \n",
       "\n",
       "    access_action_obj_id  \n",
       "0           Event type 0  \n",
       "1           Event type 1  \n",
       "2           Event type 2  \n",
       "3           Event type 1  \n",
       "4           Event type 3  \n",
       "..                   ...  \n",
       "195         Event type 7  \n",
       "196         Event type 7  \n",
       "197         Event type 7  \n",
       "198         Event type 7  \n",
       "199         Event type 7  \n",
       "\n",
       "[200 rows x 4 columns]"
      ]
     },
     "execution_count": 4,
     "metadata": {},
     "output_type": "execute_result"
    }
   ],
   "source": [
    "logs"
   ]
  },
  {
   "cell_type": "code",
   "execution_count": 5,
   "metadata": {},
   "outputs": [],
   "source": [
    "logs.time = pd.to_datetime(logs.time)"
   ]
  },
  {
   "cell_type": "code",
   "execution_count": 6,
   "metadata": {},
   "outputs": [],
   "source": [
    "unique_role = logs.employee.unique() "
   ]
  },
  {
   "cell_type": "code",
   "execution_count": 7,
   "metadata": {},
   "outputs": [],
   "source": [
    "def consecutive_diff_seconds(df_in):\n",
    "    return(np.array([t - s for s, t in zip(df_in.time, df_in.time[1:])]).astype('timedelta64[s]').astype(int)) #not that slow, maybe generate for each user"
   ]
  },
  {
   "cell_type": "code",
   "execution_count": 8,
   "metadata": {},
   "outputs": [
    {
     "data": {
      "text/plain": [
       "array(['Provider A', 'Provider B', 'Provider C', 'Provider D',\n",
       "       'Provider E', 'Provider F'], dtype=object)"
      ]
     },
     "execution_count": 8,
     "metadata": {},
     "output_type": "execute_result"
    }
   ],
   "source": [
    "unique_role"
   ]
  },
  {
   "cell_type": "code",
   "execution_count": 9,
   "metadata": {},
   "outputs": [
    {
     "name": "stdout",
     "output_type": "stream",
     "text": [
      "Provider A\n",
      "Provider B\n",
      "Provider C\n",
      "Provider D\n",
      "Provider E\n",
      "Provider F\n"
     ]
    }
   ],
   "source": [
    "sessions_list = []\n",
    "session_actions_list = []\n",
    "consec_diff_list = []\n",
    "for provider in unique_role:\n",
    "    provider_subset = logs[logs.employee == provider]\n",
    "    provider_patients = provider_subset.patient_obj_id.unique()\n",
    "    print(provider)\n",
    "    for patient in provider_patients:\n",
    "        provider_patient_subset = provider_subset[provider_subset.patient_obj_id == patient].copy()\n",
    "        provider_patient_subset = provider_patient_subset.sort_values(by='time',ascending=True).copy()\n",
    "        provider_patient_subset_consec_diff = consecutive_diff_seconds(provider_patient_subset)\n",
    "        #consec_diff_list.append(provider_patient_subset_consec_diff)\n",
    "        cutoff_times = np.where(provider_patient_subset_consec_diff>120)[0] #2 minute cutoff, 1.25 hour cutoff now\n",
    "        provider_patient_sessions = np.split(provider_patient_subset,cutoff_times+1)\n",
    "        session_actions = np.split(provider_patient_subset.access_action_obj_id,cutoff_times+1)\n",
    "        session_diff_times = np.split(provider_patient_subset_consec_diff,cutoff_times+1)\n",
    "        consec_diff_list.append(session_diff_times)\n",
    "        sessions_list.append(provider_patient_sessions)\n",
    "        session_actions_list.append(session_actions)"
   ]
  },
  {
   "cell_type": "code",
   "execution_count": 10,
   "metadata": {},
   "outputs": [],
   "source": [
    "concat_sessions_list = []\n",
    "for prov_pat in sessions_list:\n",
    "    for sessions in prov_pat:\n",
    "        concat_sessions_list.append(sessions)"
   ]
  },
  {
   "cell_type": "code",
   "execution_count": 11,
   "metadata": {},
   "outputs": [],
   "source": [
    "concatenated_actions = []\n",
    "for prov_pat in session_actions_list:\n",
    "    for sessions in prov_pat:\n",
    "        concatenated_actions.append(sessions)"
   ]
  },
  {
   "cell_type": "code",
   "execution_count": 12,
   "metadata": {},
   "outputs": [],
   "source": [
    "concatenated_differences = []\n",
    "for prov_pat in concat_sessions_list:\n",
    "    concatenated_differences.append(consecutive_diff_seconds(prov_pat))"
   ]
  },
  {
   "cell_type": "code",
   "execution_count": 13,
   "metadata": {},
   "outputs": [],
   "source": [
    "concatenated_sessions_drop_last = []\n",
    "for prov_pat in concat_sessions_list:\n",
    "    concatenated_sessions_drop_last.append(prov_pat.head(len(prov_pat)-1))"
   ]
  },
  {
   "cell_type": "code",
   "execution_count": 14,
   "metadata": {},
   "outputs": [
    {
     "name": "stdout",
     "output_type": "stream",
     "text": [
      "0\n",
      "19\n",
      "38\n",
      "57\n",
      "76\n",
      "96\n"
     ]
    },
    {
     "name": "stderr",
     "output_type": "stream",
     "text": [
      "/home/bob/anaconda3/envs/hci/lib/python3.7/site-packages/ipykernel_launcher.py:4: SettingWithCopyWarning: \n",
      "A value is trying to be set on a copy of a slice from a DataFrame.\n",
      "Try using .loc[row_indexer,col_indexer] = value instead\n",
      "\n",
      "See the caveats in the documentation: http://pandas.pydata.org/pandas-docs/stable/user_guide/indexing.html#returning-a-view-versus-a-copy\n",
      "  after removing the cwd from sys.path.\n"
     ]
    }
   ],
   "source": [
    "for i in range(len(concatenated_sessions_drop_last)):\n",
    "    if(i%10==0):\n",
    "        print(int(i/len(concatenated_sessions_drop_last)*100))\n",
    "    concatenated_sessions_drop_last[i]['ELAPSED[s]'] = concatenated_differences[i].copy()"
   ]
  },
  {
   "cell_type": "code",
   "execution_count": 15,
   "metadata": {},
   "outputs": [],
   "source": [
    "concatenated_differences_array = np.concatenate(concatenated_differences)"
   ]
  },
  {
   "cell_type": "code",
   "execution_count": 16,
   "metadata": {},
   "outputs": [
    {
     "data": {
      "image/png": "[encoded data removed]",
      "text/plain": [
       "<Figure size 432x288 with 1 Axes>"
      ]
     },
     "metadata": {
      "needs_background": "light"
     },
     "output_type": "display_data"
    }
   ],
   "source": [
    "hist_out = plt.hist(concatenated_differences_array,bins=100,range=(0,120),log=False)"
   ]
  },
  {
   "cell_type": "code",
   "execution_count": 17,
   "metadata": {},
   "outputs": [
    {
     "data": {
      "text/plain": [
       "1.0"
      ]
     },
     "execution_count": 17,
     "metadata": {},
     "output_type": "execute_result"
    }
   ],
   "source": [
    "np.where(concatenated_differences_array<120)[0].shape[0]/concatenated_differences_array.shape[0]"
   ]
  },
  {
   "cell_type": "code",
   "execution_count": 18,
   "metadata": {},
   "outputs": [],
   "source": [
    "session_counts = pd.DataFrame(np.zeros([len(concatenated_actions),len(logs.access_action_obj_id.unique())],dtype='int'))\n",
    "session_counts.columns = logs.access_action_obj_id.unique()"
   ]
  },
  {
   "cell_type": "code",
   "execution_count": 19,
   "metadata": {
    "scrolled": true
   },
   "outputs": [],
   "source": [
    "for i in range(len(concatenated_actions)):\n",
    "    session_counts.iloc[i] = concatenated_actions[i].value_counts() \n",
    "session_counts = session_counts.fillna(value=0)"
   ]
  },
  {
   "cell_type": "code",
   "execution_count": 20,
   "metadata": {},
   "outputs": [],
   "source": [
    "meta_session_list = []\n",
    "meta_start_time_list = []\n",
    "meta_end_time_list = []\n",
    "meta_emp_list = []\n",
    "meta_pat_list = []\n",
    "for prov_pat in sessions_list:\n",
    "    for sessions in prov_pat:\n",
    "        meta_emp_list.append(sessions.employee.head(1))\n",
    "        meta_pat_list.append(sessions.patient_obj_id.head(1))\n",
    "        meta_start_time_list.append(sessions.time.head(1))\n",
    "        meta_end_time_list.append(sessions.time.tail(1))\n",
    "        meta_session_list.append(sessions)"
   ]
  },
  {
   "cell_type": "code",
   "execution_count": 21,
   "metadata": {},
   "outputs": [],
   "source": [
    "meta_session_array = np.concatenate(meta_session_list)\n",
    "meta_start_time_array = np.concatenate(meta_start_time_list)\n",
    "meta_end_time_array = np.concatenate(meta_end_time_list)\n",
    "meta_pat_array = np.concatenate(meta_pat_list)\n",
    "meta_emp_array = np.concatenate(meta_emp_list)"
   ]
  },
  {
   "cell_type": "code",
   "execution_count": 22,
   "metadata": {},
   "outputs": [],
   "source": [
    "meta_table = pd.DataFrame(np.zeros([len(meta_session_list),4]))"
   ]
  },
  {
   "cell_type": "code",
   "execution_count": 23,
   "metadata": {},
   "outputs": [],
   "source": [
    "meta_table.columns=['patient_obj_id','employee','start_time','end_time']"
   ]
  },
  {
   "cell_type": "code",
   "execution_count": 24,
   "metadata": {},
   "outputs": [],
   "source": [
    "meta_table['start_time'] = meta_start_time_array\n",
    "meta_table['end_time'] = meta_end_time_array\n",
    "meta_table['patient_obj_id'] = meta_pat_array#np.arange(0,len(start_time_array))\n",
    "meta_table['employee'] = meta_emp_array"
   ]
  },
  {
   "cell_type": "code",
   "execution_count": 25,
   "metadata": {},
   "outputs": [
    {
     "data": {
      "text/html": [
       "<div>\n",
       "<style scoped>\n",
       "    .dataframe tbody tr th:only-of-type {\n",
       "        vertical-align: middle;\n",
       "    }\n",
       "\n",
       "    .dataframe tbody tr th {\n",
       "        vertical-align: top;\n",
       "    }\n",
       "\n",
       "    .dataframe thead th {\n",
       "        text-align: right;\n",
       "    }\n",
       "</style>\n",
       "<table border=\"1\" class=\"dataframe\">\n",
       "  <thead>\n",
       "    <tr style=\"text-align: right;\">\n",
       "      <th></th>\n",
       "      <th>patient_obj_id</th>\n",
       "      <th>employee</th>\n",
       "      <th>start_time</th>\n",
       "      <th>end_time</th>\n",
       "    </tr>\n",
       "  </thead>\n",
       "  <tbody>\n",
       "    <tr>\n",
       "      <th>0</th>\n",
       "      <td>Patient A</td>\n",
       "      <td>Provider A</td>\n",
       "      <td>2020-06-30 11:59:33.874630</td>\n",
       "      <td>2020-06-30 11:59:36.874630</td>\n",
       "    </tr>\n",
       "    <tr>\n",
       "      <th>1</th>\n",
       "      <td>Patient A</td>\n",
       "      <td>Provider A</td>\n",
       "      <td>2020-06-30 12:04:33.874630</td>\n",
       "      <td>2020-06-30 12:04:40.874630</td>\n",
       "    </tr>\n",
       "    <tr>\n",
       "      <th>2</th>\n",
       "      <td>Patient A</td>\n",
       "      <td>Provider A</td>\n",
       "      <td>2020-06-30 12:09:33.874630</td>\n",
       "      <td>2020-06-30 12:09:35.874630</td>\n",
       "    </tr>\n",
       "    <tr>\n",
       "      <th>3</th>\n",
       "      <td>Patient A</td>\n",
       "      <td>Provider A</td>\n",
       "      <td>2020-06-30 12:14:33.874630</td>\n",
       "      <td>2020-06-30 12:14:40.874630</td>\n",
       "    </tr>\n",
       "    <tr>\n",
       "      <th>4</th>\n",
       "      <td>Patient A</td>\n",
       "      <td>Provider A</td>\n",
       "      <td>2020-06-30 12:19:33.874630</td>\n",
       "      <td>2020-06-30 12:19:38.874630</td>\n",
       "    </tr>\n",
       "  </tbody>\n",
       "</table>\n",
       "</div>"
      ],
      "text/plain": [
       "  patient_obj_id    employee                 start_time  \\\n",
       "0      Patient A  Provider A 2020-06-30 11:59:33.874630   \n",
       "1      Patient A  Provider A 2020-06-30 12:04:33.874630   \n",
       "2      Patient A  Provider A 2020-06-30 12:09:33.874630   \n",
       "3      Patient A  Provider A 2020-06-30 12:14:33.874630   \n",
       "4      Patient A  Provider A 2020-06-30 12:19:33.874630   \n",
       "\n",
       "                    end_time  \n",
       "0 2020-06-30 11:59:36.874630  \n",
       "1 2020-06-30 12:04:40.874630  \n",
       "2 2020-06-30 12:09:35.874630  \n",
       "3 2020-06-30 12:14:40.874630  \n",
       "4 2020-06-30 12:19:38.874630  "
      ]
     },
     "execution_count": 25,
     "metadata": {},
     "output_type": "execute_result"
    }
   ],
   "source": [
    "meta_table.head()"
   ]
  },
  {
   "cell_type": "code",
   "execution_count": 26,
   "metadata": {},
   "outputs": [
    {
     "data": {
      "text/html": [
       "<div>\n",
       "<style scoped>\n",
       "    .dataframe tbody tr th:only-of-type {\n",
       "        vertical-align: middle;\n",
       "    }\n",
       "\n",
       "    .dataframe tbody tr th {\n",
       "        vertical-align: top;\n",
       "    }\n",
       "\n",
       "    .dataframe thead th {\n",
       "        text-align: right;\n",
       "    }\n",
       "</style>\n",
       "<table border=\"1\" class=\"dataframe\">\n",
       "  <thead>\n",
       "    <tr style=\"text-align: right;\">\n",
       "      <th></th>\n",
       "      <th>Event type 0</th>\n",
       "      <th>Event type 1</th>\n",
       "      <th>Event type 2</th>\n",
       "      <th>Event type 3</th>\n",
       "      <th>Event type 4</th>\n",
       "      <th>Event type 5</th>\n",
       "      <th>Event type 6</th>\n",
       "      <th>Event type 7</th>\n",
       "      <th>Event type 8</th>\n",
       "      <th>Event type 9</th>\n",
       "      <th>Event type 10</th>\n",
       "      <th>Event type 11</th>\n",
       "      <th>Event type 12</th>\n",
       "      <th>Event type 13</th>\n",
       "      <th>Event type 14</th>\n",
       "      <th>Event type 15</th>\n",
       "      <th>Event type 16</th>\n",
       "      <th>Event type 17</th>\n",
       "    </tr>\n",
       "  </thead>\n",
       "  <tbody>\n",
       "    <tr>\n",
       "      <th>0</th>\n",
       "      <td>1.0</td>\n",
       "      <td>2.0</td>\n",
       "      <td>1.0</td>\n",
       "      <td>0.0</td>\n",
       "      <td>0.0</td>\n",
       "      <td>0.0</td>\n",
       "      <td>0.0</td>\n",
       "      <td>0.0</td>\n",
       "      <td>0.0</td>\n",
       "      <td>0.0</td>\n",
       "      <td>0.0</td>\n",
       "      <td>0.0</td>\n",
       "      <td>0.0</td>\n",
       "      <td>0.0</td>\n",
       "      <td>0.0</td>\n",
       "      <td>0.0</td>\n",
       "      <td>0.0</td>\n",
       "      <td>0.0</td>\n",
       "    </tr>\n",
       "    <tr>\n",
       "      <th>1</th>\n",
       "      <td>2.0</td>\n",
       "      <td>0.0</td>\n",
       "      <td>0.0</td>\n",
       "      <td>2.0</td>\n",
       "      <td>1.0</td>\n",
       "      <td>2.0</td>\n",
       "      <td>1.0</td>\n",
       "      <td>0.0</td>\n",
       "      <td>0.0</td>\n",
       "      <td>0.0</td>\n",
       "      <td>0.0</td>\n",
       "      <td>0.0</td>\n",
       "      <td>0.0</td>\n",
       "      <td>0.0</td>\n",
       "      <td>0.0</td>\n",
       "      <td>0.0</td>\n",
       "      <td>0.0</td>\n",
       "      <td>0.0</td>\n",
       "    </tr>\n",
       "    <tr>\n",
       "      <th>2</th>\n",
       "      <td>0.0</td>\n",
       "      <td>0.0</td>\n",
       "      <td>0.0</td>\n",
       "      <td>0.0</td>\n",
       "      <td>0.0</td>\n",
       "      <td>0.0</td>\n",
       "      <td>0.0</td>\n",
       "      <td>3.0</td>\n",
       "      <td>0.0</td>\n",
       "      <td>0.0</td>\n",
       "      <td>0.0</td>\n",
       "      <td>0.0</td>\n",
       "      <td>0.0</td>\n",
       "      <td>0.0</td>\n",
       "      <td>0.0</td>\n",
       "      <td>0.0</td>\n",
       "      <td>0.0</td>\n",
       "      <td>0.0</td>\n",
       "    </tr>\n",
       "    <tr>\n",
       "      <th>3</th>\n",
       "      <td>1.0</td>\n",
       "      <td>1.0</td>\n",
       "      <td>0.0</td>\n",
       "      <td>1.0</td>\n",
       "      <td>1.0</td>\n",
       "      <td>0.0</td>\n",
       "      <td>0.0</td>\n",
       "      <td>0.0</td>\n",
       "      <td>2.0</td>\n",
       "      <td>1.0</td>\n",
       "      <td>1.0</td>\n",
       "      <td>0.0</td>\n",
       "      <td>0.0</td>\n",
       "      <td>0.0</td>\n",
       "      <td>0.0</td>\n",
       "      <td>0.0</td>\n",
       "      <td>0.0</td>\n",
       "      <td>0.0</td>\n",
       "    </tr>\n",
       "    <tr>\n",
       "      <th>4</th>\n",
       "      <td>1.0</td>\n",
       "      <td>0.0</td>\n",
       "      <td>0.0</td>\n",
       "      <td>1.0</td>\n",
       "      <td>1.0</td>\n",
       "      <td>2.0</td>\n",
       "      <td>1.0</td>\n",
       "      <td>0.0</td>\n",
       "      <td>0.0</td>\n",
       "      <td>0.0</td>\n",
       "      <td>0.0</td>\n",
       "      <td>0.0</td>\n",
       "      <td>0.0</td>\n",
       "      <td>0.0</td>\n",
       "      <td>0.0</td>\n",
       "      <td>0.0</td>\n",
       "      <td>0.0</td>\n",
       "      <td>0.0</td>\n",
       "    </tr>\n",
       "  </tbody>\n",
       "</table>\n",
       "</div>"
      ],
      "text/plain": [
       "   Event type 0  Event type 1  Event type 2  Event type 3  Event type 4  \\\n",
       "0           1.0           2.0           1.0           0.0           0.0   \n",
       "1           2.0           0.0           0.0           2.0           1.0   \n",
       "2           0.0           0.0           0.0           0.0           0.0   \n",
       "3           1.0           1.0           0.0           1.0           1.0   \n",
       "4           1.0           0.0           0.0           1.0           1.0   \n",
       "\n",
       "   Event type 5  Event type 6  Event type 7  Event type 8  Event type 9  \\\n",
       "0           0.0           0.0           0.0           0.0           0.0   \n",
       "1           2.0           1.0           0.0           0.0           0.0   \n",
       "2           0.0           0.0           3.0           0.0           0.0   \n",
       "3           0.0           0.0           0.0           2.0           1.0   \n",
       "4           2.0           1.0           0.0           0.0           0.0   \n",
       "\n",
       "   Event type 10  Event type 11  Event type 12  Event type 13  Event type 14  \\\n",
       "0            0.0            0.0            0.0            0.0            0.0   \n",
       "1            0.0            0.0            0.0            0.0            0.0   \n",
       "2            0.0            0.0            0.0            0.0            0.0   \n",
       "3            1.0            0.0            0.0            0.0            0.0   \n",
       "4            0.0            0.0            0.0            0.0            0.0   \n",
       "\n",
       "   Event type 15  Event type 16  Event type 17  \n",
       "0            0.0            0.0            0.0  \n",
       "1            0.0            0.0            0.0  \n",
       "2            0.0            0.0            0.0  \n",
       "3            0.0            0.0            0.0  \n",
       "4            0.0            0.0            0.0  "
      ]
     },
     "execution_count": 26,
     "metadata": {},
     "output_type": "execute_result"
    }
   ],
   "source": [
    "session_counts.head()"
   ]
  },
  {
   "cell_type": "code",
   "execution_count": 27,
   "metadata": {},
   "outputs": [
    {
     "data": {
      "text/plain": [
       "(52, 18)"
      ]
     },
     "execution_count": 27,
     "metadata": {},
     "output_type": "execute_result"
    }
   ],
   "source": [
    "session_counts.shape"
   ]
  },
  {
   "cell_type": "code",
   "execution_count": 28,
   "metadata": {},
   "outputs": [
    {
     "data": {
      "text/plain": [
       "(52, 4)"
      ]
     },
     "execution_count": 28,
     "metadata": {},
     "output_type": "execute_result"
    }
   ],
   "source": [
    "meta_table.shape"
   ]
  },
  {
   "cell_type": "code",
   "execution_count": 29,
   "metadata": {},
   "outputs": [],
   "source": [
    "#session_counts"
   ]
  },
  {
   "cell_type": "code",
   "execution_count": 30,
   "metadata": {},
   "outputs": [],
   "source": [
    "session_counts.to_csv(\"Simulated_Session_Count_Matrix.csv\")"
   ]
  },
  {
   "cell_type": "code",
   "execution_count": 31,
   "metadata": {},
   "outputs": [],
   "source": [
    "meta_table.to_csv(\"Simulated_Session_Metadata.csv\")"
   ]
  },
  {
   "cell_type": "code",
   "execution_count": null,
   "metadata": {},
   "outputs": [],
   "source": []
  },
  {
   "cell_type": "code",
   "execution_count": null,
   "metadata": {},
   "outputs": [],
   "source": []
  }
 ],
 "metadata": {
  "kernelspec": {
   "display_name": "Python 3",
   "language": "python",
   "name": "python3"
  },
  "language_info": {
   "codemirror_mode": {
    "name": "ipython",
    "version": 3
   },
   "file_extension": ".py",
   "mimetype": "text/x-python",
   "name": "python",
   "nbconvert_exporter": "python",
   "pygments_lexer": "ipython3",
   "version": "3.7.5"
  }
 },
 "nbformat": 4,
 "nbformat_minor": 4
}
